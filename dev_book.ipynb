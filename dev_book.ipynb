{
 "cells": [
  {
   "cell_type": "markdown",
   "id": "fb9b869a-c3af-4287-87a6-a6b1a15f1f5e",
   "metadata": {
    "tags": []
   },
   "source": [
    "# campsitr"
   ]
  },
  {
   "cell_type": "markdown",
   "id": "2d31d797-6fc1-45c0-84b9-78272ca22dda",
   "metadata": {
    "tags": []
   },
   "source": [
    "### Import libraries"
   ]
  },
  {
   "cell_type": "code",
   "execution_count": 1,
   "id": "3126c6cd-61ff-46b7-b6ab-25ea1488243e",
   "metadata": {},
   "outputs": [],
   "source": [
    "import requests"
   ]
  },
  {
   "cell_type": "markdown",
   "id": "23310a11-6ce9-4cae-b60e-f4ccf0edebff",
   "metadata": {},
   "source": [
    "### connect to home page"
   ]
  },
  {
   "cell_type": "code",
   "execution_count": 2,
   "id": "b8f2acdd-42b6-43a8-8c1d-a7cbd565f047",
   "metadata": {},
   "outputs": [],
   "source": [
    "url_home = 'https://wisconsin.goingtocamp.com'"
   ]
  },
  {
   "cell_type": "code",
   "execution_count": 4,
   "id": "c2acccf0-d97a-4f7f-8ea1-cbe4c9e49637",
   "metadata": {},
   "outputs": [],
   "source": [
    "headers_home = {'User-Agent': 'Mozilla/5.0 (X11; Linux x86_64) AppleWebKit/537.36 (KHTML, like Gecko) Chrome/77.0.3865.90 Safari/537.36'\n",
    "          ,'Sec-Fetch-Mode': 'navigate'\n",
    "          ,'Sec-Fetch-User': '?1'\n",
    "          ,'Upgrade-Insecure-Requests': '1'}"
   ]
  },
  {
   "cell_type": "code",
   "execution_count": 5,
   "id": "5d3ce10c-3da8-48e1-a672-0a4253dade50",
   "metadata": {},
   "outputs": [],
   "source": [
    "r_home = requests.get(url, headers)"
   ]
  },
  {
   "cell_type": "code",
   "execution_count": 6,
   "id": "86c0ceea-fd6b-4968-8365-d38d5a79f367",
   "metadata": {},
   "outputs": [
    {
     "data": {
      "text/plain": [
       "200"
      ]
     },
     "execution_count": 6,
     "metadata": {},
     "output_type": "execute_result"
    }
   ],
   "source": [
    "r_home.status_code"
   ]
  },
  {
   "cell_type": "markdown",
   "id": "97b58f84-d451-460f-86da-98377996e469",
   "metadata": {},
   "source": [
    "### connect to park_info section"
   ]
  },
  {
   "cell_type": "code",
   "execution_count": 14,
   "id": "ba0563d7-7533-418c-bff9-deb24165282a",
   "metadata": {},
   "outputs": [],
   "source": [
    "url_park_info = 'https://wisconsin.goingtocamp.com/api/resourceLocation'"
   ]
  },
  {
   "cell_type": "code",
   "execution_count": 15,
   "id": "67c25a7f-ce36-44bd-b64b-273b5bb67d82",
   "metadata": {},
   "outputs": [],
   "source": [
    "r_park_info = requests.get(url_park_info)"
   ]
  },
  {
   "cell_type": "code",
   "execution_count": 16,
   "id": "3eca36ce-057a-401a-8227-63c44575a399",
   "metadata": {},
   "outputs": [
    {
     "data": {
      "text/plain": [
       "200"
      ]
     },
     "execution_count": 16,
     "metadata": {},
     "output_type": "execute_result"
    }
   ],
   "source": [
    "r_park_info.status_code"
   ]
  },
  {
   "cell_type": "markdown",
   "id": "3ced3beb-472d-44f0-93b8-092a112f6e8c",
   "metadata": {},
   "source": [
    "#### load park_info_json into variable. need to parse"
   ]
  },
  {
   "cell_type": "code",
   "execution_count": 18,
   "id": "adad4505-6750-49aa-aef6-6ba316690798",
   "metadata": {},
   "outputs": [],
   "source": [
    "park_info_json = r_park_info.content.decode()"
   ]
  },
  {
   "cell_type": "code",
   "execution_count": null,
   "id": "3ec05692-3119-4af1-8cbd-a36c34eb5a96",
   "metadata": {},
   "outputs": [],
   "source": []
  },
  {
   "cell_type": "code",
   "execution_count": null,
   "id": "d9c8cad2-2d0d-4335-8535-b97b39aad2bb",
   "metadata": {},
   "outputs": [],
   "source": []
  },
  {
   "cell_type": "markdown",
   "id": "c084c34a-e2b1-4e8c-9123-b68afa17ffdd",
   "metadata": {},
   "source": [
    "### test zone"
   ]
  },
  {
   "cell_type": "code",
   "execution_count": 7,
   "id": "1366c97c-4ec8-46da-8520-eb945d9663de",
   "metadata": {},
   "outputs": [
    {
     "name": "stdout",
     "output_type": "stream",
     "text": [
      "<!DOCTYPE html><html><head><meta charset=\"utf-8\"><meta name=\"viewport\" content=\"width=device-width, initial-scale=1.0\"><title>Home Page</title><base href=\"/\"><link id=\"favicon-ico\" rel=\"icon\" type=\"image/x-icon\" href=\"\"><link id=\"favicon-ico-shortcut\" rel=\"shortcut icon\" type=\"image/x-icon\" href=\"\"><link id=\"favicon-16\" rel=\"icon\" type=\"image/png\" sizes=\"16x16\" href=\"\"><link id=\"favicon-32\" rel=\"icon\" type=\"image/png\" sizes=\"32x32\" href=\"\"><link id=\"favicon-apple\" rel=\"apple-touch-icon\" type=\"image/png\" sizes=\"180x180\" href=\"\"><link id=\"favicon-masked\" rel=\"mask-icon\" color=\"\" href=\"\"><link id=\"web-manifest\" rel=\"manifest\" href=\"\"><meta id=\"favicon-msapplication\" name=\"msapplication-config\" content=\"none\"></head><body><app-root></app-root><link rel=\"icon\" type=\"image/png\" href=\"data:image/png;base64,iVBORw0KGgo=\"><link href=\"/dist/vendor.css?v=f60040dc025c4f21aef23d9334a6347799593b6eeddfdbd94c954c45df11199f\" rel=\"stylesheet\"><link href=\"/dist/assets/themes/camis-template.min.css?v=f60040dc025c4f21aef23d9334a6347799593b6eeddfdbd94c954c45df11199f\" rel=\"stylesheet\"><script src=\"/dist/vendor.js?v=f60040dc025c4f21aef23d9334a6347799593b6eeddfdbd94c954c45df11199f\"></script><script>navigator.cookieEnabled && 'serviceWorker' in navigator && navigator.serviceWorker.register('/serviceworker')\n",
      "</script><script src=\"/dist/main-client.js?v=f60040dc025c4f21aef23d9334a6347799593b6eeddfdbd94c954c45df11199f\"></script></body></html>\n"
     ]
    }
   ],
   "source": [
    "result = requests.get(url, headers=headers)\n",
    "print(result.content.decode())"
   ]
  },
  {
   "cell_type": "code",
   "execution_count": null,
   "id": "758b669a-78d1-40fc-a6bb-50327b6b6909",
   "metadata": {},
   "outputs": [],
   "source": []
  },
  {
   "cell_type": "code",
   "execution_count": 8,
   "id": "8e5b06e1-6819-414e-8f83-400f6815759f",
   "metadata": {},
   "outputs": [],
   "source": [
    "url_res = 'https://wisconsin.goingtocamp.com/create-booking/results?resourceLocationId=-2147483634&mapId=-2147483637&searchTabGroupId=0&bookingCategoryId=0&startDate=2021-09-06&endDate=2021-09-07&nights=1&isReserving=true&equipmentId=-32768&subEquipmentId=-32768&partySize=1&searchTime=2021-09-06T16:57:45.721'"
   ]
  },
  {
   "cell_type": "code",
   "execution_count": 9,
   "id": "b631f34d-3307-40b4-9a37-5af162a0ff96",
   "metadata": {},
   "outputs": [],
   "source": [
    "headers_res = {\n",
    "'authority': 'wisconsin.goingtocamp.com'\n",
    ",'method': 'GET'\n",
    ",'path': '/'\n",
    ",'scheme': 'https'\n",
    ",'accept': 'text/html,application/xhtml+xml,application/xml;q=0.9,image/webp,image/apng,*/*;q=0.8,application/signed-exchange;v=b3'\n",
    ",'accept-encoding': 'gzip, deflate, br'\n",
    ",'accept-language': 'en-US,en;q=0.9'\n",
    ",'cache-control': 'max-age=0'\n",
    ",'cookie': 'ai_user=2iuHm|2021-09-05T13:51:35.197Z; _ga=GA1.1.1000870525.1630849897; ai_session=UpR4S|1630963696032.14|1630964318004.855; _ga_EPR2TFPWYE=GS1.1.1630963699.2.1.1630964938.0'\n",
    ",'if-modified-since': 'Tue, 22 Jun 2021 03:18:05 GMT'\n",
    ",'if-none-match': \"0x8D9352C59D4E45C\"\n",
    ",'sec-fetch-mode': 'navigate'\n",
    ",'sec-fetch-site': 'none'\n",
    ",'sec-fetch-user': '?1'\n",
    ",'upgrade-insecure-requests': '1'\n",
    ",'user-agent': 'Mozilla/5.0 (X11; Linux x86_64) AppleWebKit/537.36 (KHTML, like Gecko) Chrome/77.0.3865.90 Safari/537.36'}"
   ]
  },
  {
   "cell_type": "code",
   "execution_count": 10,
   "id": "89e1fb7f-ced7-4dbf-8a58-103e24db6047",
   "metadata": {},
   "outputs": [],
   "source": [
    "r_res = requests.get(url_res, headers_res)"
   ]
  },
  {
   "cell_type": "code",
   "execution_count": 12,
   "id": "1d24358c-3b78-43da-b8ff-3da22e6b3cd0",
   "metadata": {},
   "outputs": [
    {
     "data": {
      "text/plain": [
       "403"
      ]
     },
     "execution_count": 12,
     "metadata": {},
     "output_type": "execute_result"
    }
   ],
   "source": [
    "r_res.status_code"
   ]
  }
 ],
 "metadata": {
  "kernelspec": {
   "display_name": "Python 3",
   "language": "python",
   "name": "python3"
  },
  "language_info": {
   "codemirror_mode": {
    "name": "ipython",
    "version": 3
   },
   "file_extension": ".py",
   "mimetype": "text/x-python",
   "name": "python",
   "nbconvert_exporter": "python",
   "pygments_lexer": "ipython3",
   "version": "3.6.9"
  }
 },
 "nbformat": 4,
 "nbformat_minor": 5
}
